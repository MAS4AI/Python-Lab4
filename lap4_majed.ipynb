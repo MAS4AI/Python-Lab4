{
 "cells": [
  {
   "cell_type": "code",
   "execution_count": 14,
   "id": "60a368ae",
   "metadata": {},
   "outputs": [
    {
     "name": "stdout",
     "output_type": "stream",
     "text": [
      "pls enter a intger value4\n",
      "4 3 2 1\n",
      "3 2 1\n",
      "2 1\n",
      "1\n"
     ]
    }
   ],
   "source": [
    "# Create a function that takes one parameter of type int, then it prints out the result formatted like the following pattern (if we give it 5 for example):\n",
    "\n",
    "# 5 4 3 2 1\n",
    "# 4 3 2 1\n",
    "# 3 2 1\n",
    "# 2 1\n",
    "# 1\n",
    "\n",
    "def print_pattern(n): #function have a parameter for the user input \n",
    "    for i in range(n, 0, -1): #this here in the range will take the last value and start with it and the end value is the original start for the range\n",
    "        print(*range(i, 0, -1)) #same is the above but there is the star that allows me to print the whole range ###\n",
    "        \n",
    "user_input =int(input('pls enter a intger value \\n')) # input by the user \n",
    "print_pattern(user_input) # calling the function \n"
   ]
  },
  {
   "cell_type": "code",
   "execution_count": null,
   "id": "abad7c0a",
   "metadata": {},
   "outputs": [],
   "source": []
  }
 ],
 "metadata": {
  "kernelspec": {
   "display_name": "Python 3 (ipykernel)",
   "language": "python",
   "name": "python3"
  },
  "language_info": {
   "codemirror_mode": {
    "name": "ipython",
    "version": 3
   },
   "file_extension": ".py",
   "mimetype": "text/x-python",
   "name": "python",
   "nbconvert_exporter": "python",
   "pygments_lexer": "ipython3",
   "version": "3.9.15"
  }
 },
 "nbformat": 4,
 "nbformat_minor": 5
}
